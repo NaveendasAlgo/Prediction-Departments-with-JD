{
 "cells": [
  {
   "cell_type": "markdown",
   "metadata": {},
   "source": [
    "### Introduction\n",
    "\n",
    "\n",
    "**Probelm Statement:** Make a classifier which takes in a job description and gives the department name for it.\n",
    "*   Use a neural network model\n",
    "*   Make use of a pre-trained Word Embeddings (example: Word2Vec, GloVe, etc.)\n",
    "*   Calculate the accuracy on a test set (data not used to train the model)\n",
    "\n",
    "**Problem Solving Approach:** \n",
    "_Provide a brief description of steps you followed for solving this problem_\n",
    "1. \n",
    "2. \n",
    "3. "
   ]
  },
  {
   "cell_type": "markdown",
   "metadata": {},
   "source": [
    "### Part I: Text Preprocessing\n",
    "\n",
    "_Include all text preprocesing steps like processing of json,csv files & data cleaning in this part._"
   ]
  },
  {
   "cell_type": "markdown",
   "metadata": {},
   "source": [
    "Import neccessary packages in below cell"
   ]
  },
  {
   "cell_type": "code",
   "execution_count": 15,
   "metadata": {
    "collapsed": true
   },
   "outputs": [],
   "source": [
    "import pandas as pd\n",
    "import numpy as np\n",
    "import os\n",
    "import matplotlib.pyplot as plt\n",
    "import json"
   ]
  },
  {
   "cell_type": "code",
   "execution_count": 13,
   "metadata": {},
   "outputs": [
    {
     "name": "stdout",
     "output_type": "stream",
     "text": [
      "['5922081.json', '6523883.json', '6600981.json', '6686185.json', '6726409.json', '6975593.json', '6978067.json', '6978079.json', '7000953.json', '7010467.json', '7045929.json', '7072743.json', '7093373.json', '7121587.json', '7128611.json', '7135099.json', '7135571.json', '7140501.json', '7160943.json', '7172353.json', '7238217.json', '7291285.json', '7315159.json', '7424001.json', '7424203.json', '7424353.json', '7465053.json', '7494221.json', '7494229.json', '7521301.json', '7521649.json', '7527075.json', '7533733.json', '7534839.json', '7540071.json', '7549735.json', '7549739.json', '7590259.json', '7622571.json', '7636811.json', '7641863.json', '7654483.json', '7655893.json', '7667349.json', '7674559.json', '7709455.json', '7710189.json', '7719949.json', '7719991.json', '7754159.json', '7754317.json', '7757525.json', '7760163.json', '7761203.json', '7770319.json', '7776307.json', '7792815.json', '7794234.json', '7794524.json', '7795949.json', '7795967.json', '7796107.json', '7797381.json', '7797687.json', '7798230.json', '7801847.json', '7802291.json', '7802425.json', '7802687.json', '7802879.json', '7802891.json', '7803875.json', '7803891.json', '7804201.json', '7804365.json', '7804499.json', '7804665.json', '7804677.json', '7804685.json', '7807328.json', '7807971.json', '7812177.json', '7812437.json', '7813051.json', '7813185.json', '7813401.json', '7813477.json', '7823357.json', '7823447.json', '7823481.json', '7825327.json', '7825919.json', '7825941.json', '7825991.json', '7827945.json', '7830874.json', '7830878.json', '7830882.json', '7830884.json', '7830886.json', '7830888.json', '7831498.json', '7831530.json', '7831591.json', '7831913.json', '7832539.json', '7839027.json', '7839395.json', '7840013.json', '7840267.json', '7842801.json', '7842989.json', '7846646.json', '7846689.json', '7848525.json', '7848795.json', '7850819.json', '7852728.json', '7853356.json', '7856577.json', '7856804.json', '7856937.json', '7856959.json', '7857135.json', '7858267.json', '7858583.json', '7858847.json', '7860736.json', '7860738.json', '7860744.json', '7860748.json', '7860764.json', '7860770.json', '7860780.json', '7861674.json', '7863392.json', '7863394.json', '7864787.json', '7866783.json', '7870556.json', '7871926.json', '7871942.json', '7871964.json', '7871976.json', '7871984.json', '7871986.json', '7872937.json', '7873487.json', '7873551.json', '7873577.json', '7874923.json', '7875183.json', '7878736.json', '7881041.json', '7881065.json', '7881105.json', '7881493.json', '7882462.json', '7886593.json', '7887983.json', '7888001.json', '7889317.json', '7889431.json', '7889689.json', '7889693.json', '7889695.json', '7889799.json', '7889935.json', '7891497.json', '7894969.json', '7895011.json', '7895123.json', '7899488.json', '7899490.json', '7899494.json', '7899500.json', '7903385.json', '7903427.json', '7903513.json', '7903529.json', '7903545.json', '7904555.json', '7906245.json', '7906439.json', '7908039.json', '7908151.json', '7908559.json', '7908979.json', '7909207.json', '7910945.json', '7911323.json', '7911731.json', '7911981.json', '7912733.json', '7913013.json', '7913466.json', '7913470.json', '7913472.json', '7913474.json', '7913478.json', '7913480.json', '7917996.json', '7918034.json', '7918040.json', '7918164.json', '7922868.json', '7922962.json', '7922986.json', '7923488.json', '7924931.json', '7925167.json', '7926157.json', '7926169.json', '7926229.json', '7928806.json', '7930568.json', '7930606.json', '7930622.json', '7930626.json', '7930630.json', '7930636.json', '7930642.json', '7930648.json', '7930692.json', '7931446.json', '7931456.json', '7932293.json', '7934066.json', '7934179.json', '7934797.json', '7937331.json', '7937409.json', '7937993.json', '7938859.json', '7939881.json', '7939939.json', '7940247.json', '7940427.json', '7940951.json', '7941367.json', '7941657.json', '7948408.json', '7951835.json', '7951939.json', '7952155.json', '7954881.json', '7956766.json', '7959893.json', '7959905.json', '7960053.json', '7960087.json', '7960339.json', '7960697.json', '7960939.json', '7960945.json', '7960977.json', '7961017.json', '7961049.json', '7962627.json', '7963474.json', '7963476.json', '7963478.json', '7963480.json', '7963482.json', '7963484.json', '7963486.json', '7963488.json', '7963490.json', '7963492.json', '7963494.json', '7963496.json', '7963850.json', '7963856.json', '7964554.json', '7964624.json', '7966159.json', '7966269.json', '7966739.json', '7967169.json', '7967521.json', '7967905.json', '7967957.json', '7967991.json', '7968259.json', '7971830.json', '7973245.json', '7976191.json', '7977823.json', '7977827.json', '7979955.json', '7980139.json', '7981330.json', '7981348.json', '7982912.json', '7983430.json', '7983566.json', '7983570.json', '7983718.json', '7983720.json', '7983724.json', '7983726.json', '7983728.json', '7983732.json', '7983734.json', '7983740.json', '7983742.json', '7983744.json', '7983746.json', '7983748.json', '7983750.json', '7983752.json', '7983754.json', '7983758.json', '7983760.json', '7983762.json', '7983764.json', '7985444.json', '7985446.json', '7985472.json', '7986625.json', '7987491.json', '7987779.json', '7987903.json', '7987961.json', '7988039.json', '7989440.json', '7989442.json', '7991308.json', '7992097.json', '7994201.json', '7994333.json', '7994473.json', '7994939.json', '7995237.json', '7999510.json', '7999514.json', '7999516.json', '7999524.json', '7999984.json', '7999992.json', '8000100.json', '8000758.json', '8002481.json', '8002493.json', '8002555.json', '8002901.json', '8003317.json', '8003609.json', '8003765.json', '8004853.json', '8008048.json', '8008822.json', '8008824.json', '8008826.json', '8008828.json', '8008830.json', '8008832.json', '8008834.json', '8009898.json', '8010737.json', '8010981.json', '8011059.json', '8011117.json', '8011297.json', '8011339.json', '8011341.json', '8011345.json', '8011347.json', '8011385.json', '8013253.json', '8014064.json', '8014066.json', '8014068.json', '8014070.json', '8014072.json', '8014074.json', '8014076.json', '8014078.json', '8014080.json', '8014082.json', '8014084.json', '8014086.json', '8014090.json', '8014092.json', '8014094.json', '8014096.json', '8014098.json', '8014100.json', '8014102.json', '8014104.json', '8014106.json', '8014108.json', '8014110.json', '8014112.json', '8014114.json', '8014976.json', '8014978.json', '8014980.json', '8018461.json', '8019271.json', '8019553.json', '8019561.json', '8019999.json', '8020035.json', '8020065.json', '8020083.json', '8021136.json', '8022470.json', '8022474.json', '8022476.json', '8022482.json', '8022500.json', '8022514.json', '8024006.json', '8024008.json', '8024010.json', '8024012.json', '8024014.json', '8024016.json', '8024018.json', '8024020.json', '8024868.json', '8026365.json', '8026763.json', '8026799.json', '8028251.json', '8028999.json', '8029293.json', '8031354.json', '8032364.json', '8032628.json', '8033058.json', '8033292.json', '8035377.json', '8041245.json', '8041946.json', '8041960.json', '8043630.json', '8044547.json', '8044559.json', '8045219.json', '8045777.json', '8046105.json', '8046113.json', '8046115.json', '8046117.json', '8046123.json', '8046145.json', '8047939.json', '8048401.json', '8049678.json', '8049800.json', '8050426.json', '8053027.json', '8053101.json', '8053159.json', '8053351.json', '8054728.json', '8054888.json', '8054890.json', '8056905.json', '8057230.json', '8057232.json', '8058909.json', '8059373.json', '8059407.json', '8059425.json', '8059447.json', '8059461.json', '8059581.json', '8059639.json', '8059703.json', '8061185.json', '8061193.json', '8061195.json', '8061197.json', '8061249.json', '8061349.json', '8061611.json', '8061691.json', '8061697.json', '8061711.json', '8061739.json', '8061789.json', '8061943.json', '8063998.json', '8064014.json', '8064718.json', '8066330.json', '8066769.json', '8067133.json', '8067151.json', '8068684.json', '8068686.json', '8068690.json', '8068692.json', '8068694.json', '8068696.json', '8070108.json', '8071847.json', '8072835.json', '8072839.json', '8072849.json', '8072895.json', '8072897.json', '8072899.json', '8072903.json', '8072907.json', '8072919.json', '8074101.json', '8074621.json', '8077276.json', '8077278.json', '8077280.json', '8077282.json', '8077438.json', '8077442.json', '8077444.json', '8077452.json', '8077474.json', '8079863.json', '8079879.json', '8080285.json', '8080589.json', '8084920.json', '8084926.json', '8085348.json', '8086280.json', '8087159.json', '8087663.json', '8087903.json', '8087955.json', '8089663.json', '8089679.json', '8089697.json', '8090481.json', '8091645.json', '8095878.json', '8097078.json', '8097403.json', '8097419.json', '8097427.json', '8097433.json', '8097435.json', '8097437.json', '8097445.json', '8097449.json', '8097901.json', '8097903.json', '8097905.json', '8097909.json', '8097911.json', '8099527.json', '8100293.json', '8100332.json', '8101777.json', '8102531.json', '8102915.json', '8103111.json', '8103475.json', '8104553.json', '8105121.json', '8105131.json', '8105135.json', '8108853.json', '8109847.json', '8111125.json', '8115383.json', '8115387.json', '8115559.json', '8115595.json', '8115605.json', '8115625.json', '8115631.json', '8115651.json', '8115655.json', '8115667.json', '8115675.json', '8115695.json', '8115703.json', '8115719.json', '8115997.json', '8116033.json', '8116051.json', '8116067.json', '8116769.json', '8116913.json', '8118306.json', '8121801.json', '8125246.json', '8126295.json', '8126401.json', '8126409.json', '8126413.json', '8126421.json', '8126573.json', '8126597.json', '8126711.json', '8127795.json', '8129734.json', '8131558.json', '8131574.json', '8131576.json', '8131590.json', '8135071.json', '8135091.json', '8135423.json', '8135481.json', '8135675.json', '8136005.json', '8136071.json', '8136085.json', '8136539.json', '8136645.json', '8136869.json', '8136871.json', '8136877.json', '8136933.json', '8136937.json', '8136941.json', '8136943.json', '8136949.json', '8136957.json', '8136965.json', '8136991.json', '8137001.json', '8137011.json', '8137943.json', '8139781.json', '8140750.json', '8141100.json', '8141749.json', '8142806.json', '8143325.json', '8143365.json', '8143481.json', '8143525.json', '8143599.json', '8143895.json', '8143945.json', '8144059.json', '8144151.json', '8144203.json', '8144269.json', '8144427.json', '8145509.json', '8147386.json', '8150737.json', '8153826.json', '8153828.json', '8153830.json', '8153832.json', '8153842.json', '8153844.json', '8153848.json', '8153926.json', '8153928.json', '8153930.json', '8156095.json', '8156859.json', '8157721.json', '8157857.json', '8157937.json', '8158023.json', '8158423.json', '8158445.json', '8158539.json', '8158543.json', '8158629.json', '8158631.json', '8158635.json', '8158637.json', '8158639.json', '8158643.json', '8158645.json', '8158657.json', '8158667.json', '8159247.json', '8159257.json', '8159395.json', '8160461.json', '8160737.json', '8161831.json', '8161883.json', '8162055.json', '8162205.json', '8163960.json', '8164249.json', '8164592.json', '8164888.json', '8165182.json', '8165186.json', '8165266.json', '8165442.json', '8165614.json', '8165624.json', '8165628.json', '8165634.json', '8165839.json', '8168035.json', '8168143.json', '8168319.json', '8168713.json', '8169424.json', '8169434.json', '8169436.json', '8170788.json', '8170790.json', '8170792.json', '8171187.json', '8171912.json', '8172888.json', '8172964.json', '8172978.json', '8172981.json', '8173147.json', '8173229.json', '8173539.json', '8173957.json', '8174536.json', '8175024.json', '8175112.json', '8177155.json', '8177688.json', '8177690.json', '8177692.json', '8177694.json', '8180575.json', '8180813.json', '8180829.json', '8180831.json', '8180839.json', '8180845.json', '8180859.json', '8180869.json', '8180909.json', '8180915.json', '8180927.json', '8181169.json', '8186002.json', '8186004.json', '8188839.json', '8189651.json', '8189653.json', '8189701.json', '8189745.json', '8189763.json', '8190111.json', '8190149.json', '8192248.json', '8192488.json', '8194299.json', '8194389.json', '8196417.json', '8196431.json', '8196643.json', '8197037.json', '8197351.json', '8197385.json', '8197393.json', '8198703.json', '8199053.json', '8199075.json', '8199099.json', '8199123.json', '8199209.json', '8199215.json', '8199393.json', '8199403.json', '8199565.json', '8200011.json', '8202719.json', '8203166.json', '8203232.json', '8203252.json', '8206879.json', '8207277.json', '8207723.json', '8207727.json', '8207731.json', '8207737.json', '8207751.json', '8207767.json', '8208497.json', '8208767.json', '8208769.json', '8208771.json', '8208777.json', '8210074.json', '8210186.json', '8212406.json', '8212408.json', '8212410.json', '8213541.json', '8215257.json', '8218701.json', '8218871.json', '8218979.json', '8219711.json', '8219751.json', '8219883.json', '8220397.json', '8220399.json', '8220401.json', '8220403.json', '8220405.json', '8220407.json', '8220409.json', '8220411.json', '8220421.json', '8220423.json', '8220523.json', '8222378.json', '8223960.json', '8226067.json', '8226781.json', '8226999.json', '8227009.json', '8227057.json', '8227097.json', '8227235.json', '8227243.json', '8227375.json', '8228113.json', '8228484.json', '8228600.json', '8228602.json', '8228604.json', '8231256.json', '8233904.json', '8234150.json', '8234205.json', '8234653.json', '8234718.json', '8235111.json', '8235183.json', '8235203.json', '8235755.json', '8236051.json', '8241719.json', '8242715.json', '8242739.json', '8242799.json', '8243533.json', '8243919.json', '8245653.json', '8247867.json', '8248920.json', '8249359.json', '8249497.json', '8249563.json', '8249609.json', '8249679.json', '8249759.json', '8249805.json', '8249835.json', '8249993.json', '8250017.json', '8250123.json', '8250679.json', '8250737.json', '8251832.json', '8251880.json', '8253293.json', '8255032.json', '8256845.json', '8257083.json', '8257331.json', '8257455.json', '8257741.json', '8257845.json', '8257849.json', '8258085.json', '8258121.json', '8258129.json', '8258159.json', '8258339.json', '8260186.json', '8260190.json', '8260210.json', '8260212.json', '8260214.json', '8262146.json', '8262358.json', '8262784.json', '8263611.json', '8264142.json', '8265085.json', '8267171.json', '8267205.json', '8268968.json', '8269683.json', '8270780.json', '8271068.json', '8271078.json', '8271082.json', '8272045.json', '8272055.json', '8272085.json', '8272139.json', '8272183.json', '8274512.json', '8274514.json', '8274570.json', '8274814.json', '8276610.json', '8276614.json', '8277735.json', '8277905.json', '8277939.json', '8277943.json', '8277947.json', '8277959.json', '8277961.json', '8278073.json', '8278123.json', '8278193.json', '8278217.json', '8278229.json', '8278237.json', '8278247.json', '8278261.json', '8278293.json', '8278297.json', '8278305.json', '8278311.json', '8278321.json', '8278367.json', '8278577.json', '8278889.json', '8278991.json', '8280045.json', '8280113.json', '8280187.json', '8280309.json', '8280345.json', '8281243.json', '8282388.json', '8283481.json', '8283534.json', '8284583.json', '8285637.json', '8286119.json', '8289006.json', '8289008.json', '8289528.json', '8289530.json', '8289532.json', '8293588.json', '8293594.json', '8296118.json', '8296120.json', '8296124.json', '8296128.json', '8296130.json', '8296136.json', '8296138.json', '8296140.json', '8296142.json', '8296144.json', '8296967.json', '8297027.json', '8297039.json', '8297061.json', '8297065.json', '8297071.json', '8297475.json', '8297705.json', '8298063.json', '8303467.json', '8304171.json', '8305283.json', '8305287.json', '8305327.json', '8305411.json', '8305743.json', '8305745.json', '8305771.json', '8307069.json', '8312805.json', '8312809.json', '8312813.json', '8312819.json', '8317890.json', '8320981.json', '8321073.json', '8321107.json', '8321189.json', '8321225.json', '8322449.json', '8324725.json', '8325371.json', '8325395.json', '8327728.json', '8328297.json', '8328528.json', '8328530.json', '8328534.json', '8328536.json', '8328538.json', '8330771.json', '8330787.json', '8331003.json', '8331625.json', '8331687.json', '8336106.json', '8337711.json', '8337853.json', '8337925.json', '8337941.json', '8338217.json', '8340709.json', '8340713.json', '8340845.json', '8340865.json', '8340875.json', '8340943.json', '8340981.json', '8341049.json', '8341825.json', '8341835.json', '8342017.json', '8343474.json', '8343612.json', '8343620.json', '8343628.json', '8343634.json', '8343638.json', '8343644.json', '8343650.json', '8343654.json', '8343656.json', '8343672.json', '8343836.json', '8343840.json', '8343842.json', '8343844.json', '8343846.json', '8344610.json', '8344614.json', '8345564.json', '8349041.json', '8350933.json', '8351253.json', '8351273.json', '8351826.json', '8351830.json', '8351832.json', '8352159.json', '8352750.json', '8354673.json', '8354773.json', '8354797.json', '8355045.json', '8355315.json', '8356545.json', '8361743.json', '8362045.json', '8364691.json', '8366370.json', '8366374.json', '8366376.json', '8366382.json', '8366384.json', '8366386.json', '8367639.json', '8367885.json', '8370153.json', '8370423.json', '8370571.json', '8370858.json', '8370860.json', '8370864.json', '8370866.json', '8370868.json', '8370870.json', '8370872.json', '8370874.json', '8370876.json', '8370880.json', '8370882.json', '8370886.json', '8370890.json', '8370892.json', '8370898.json', '8370900.json', '8370902.json', '8370906.json', '8370908.json', '8370910.json', '8370912.json', '8370920.json', '8370926.json', '8370928.json', '8370930.json', '8370932.json', '8370936.json', '8370942.json', '8370944.json', '8370948.json', '8370958.json', '8370960.json', '8370964.json', '8370966.json', '8370968.json', '8370970.json', '8375133.json', '8375147.json', '8375169.json', '8375215.json', '8375237.json', '8375291.json', '8375313.json', '8375363.json', '8375381.json', '8375655.json', '8376819.json', '8377265.json', '8378605.json', '8378609.json', '8379267.json', '8381302.json', '8384363.json', '8385551.json', '8385595.json', '8385805.json', '8385821.json', '8385851.json', '8385953.json', '8386169.json', '8388295.json', '8388305.json', '8388313.json', '8388323.json', '8388325.json', '8388751.json', '8388763.json', '8388911.json', '8388977.json', '8389011.json', '8389315.json', '8389327.json', '8389341.json', '8389347.json', '8390135.json', '8391348.json', '8393742.json', '8393746.json', '8393748.json', '8393750.json', '8393754.json', '8394450.json', '8394452.json', '8394454.json', '8402293.json', '8402309.json', '8402365.json', '8402367.json', '8402419.json', '8402741.json', '8403769.json', '8403771.json']\n"
     ]
    }
   ],
   "source": [
    "os.chdir(path='data/docs')\n",
    "file_list=os.listdir()\n",
    "print(file_list)\n",
    "\n",
    "\n",
    "    x="
   ]
  },
  {
   "cell_type": "code",
   "execution_count": 16,
   "metadata": {},
   "outputs": [],
   "source": [
    "for i in file_list:\n",
    "    \n",
    "    with open(i) as datafile:\n",
    "        data = json.load(datafile)\n",
    "    data = pd.DataFrame(data)"
   ]
  },
  {
   "cell_type": "code",
   "execution_count": 19,
   "metadata": {},
   "outputs": [
    {
     "data": {
      "text/html": [
       "<div>\n",
       "<style>\n",
       "    .dataframe thead tr:only-child th {\n",
       "        text-align: right;\n",
       "    }\n",
       "\n",
       "    .dataframe thead th {\n",
       "        text-align: left;\n",
       "    }\n",
       "\n",
       "    .dataframe tbody tr th {\n",
       "        vertical-align: top;\n",
       "    }\n",
       "</style>\n",
       "<table border=\"1\" class=\"dataframe\">\n",
       "  <thead>\n",
       "    <tr style=\"text-align: right;\">\n",
       "      <th></th>\n",
       "      <th>_id</th>\n",
       "      <th>api_data</th>\n",
       "      <th>company_info</th>\n",
       "      <th>jd_information</th>\n",
       "      <th>other_details</th>\n",
       "      <th>topbox_information</th>\n",
       "    </tr>\n",
       "  </thead>\n",
       "  <tbody>\n",
       "    <tr>\n",
       "      <th>Company Description</th>\n",
       "      <td>8403771</td>\n",
       "      <td>NaN</td>\n",
       "      <td>TALENT HUNTERS MANPOWER SOLUTION PROP Ashop no...</td>\n",
       "      <td>NaN</td>\n",
       "      <td>NaN</td>\n",
       "      <td>NaN</td>\n",
       "    </tr>\n",
       "    <tr>\n",
       "      <th>Company Name</th>\n",
       "      <td>8403771</td>\n",
       "      <td>NaN</td>\n",
       "      <td>[Company Hidden]</td>\n",
       "      <td>NaN</td>\n",
       "      <td>NaN</td>\n",
       "      <td>NaN</td>\n",
       "    </tr>\n",
       "    <tr>\n",
       "      <th>Department:</th>\n",
       "      <td>8403771</td>\n",
       "      <td>NaN</td>\n",
       "      <td>NaN</td>\n",
       "      <td>NaN</td>\n",
       "      <td>[Back Office Operations, Operations Management...</td>\n",
       "      <td>NaN</td>\n",
       "    </tr>\n",
       "    <tr>\n",
       "      <th>Email</th>\n",
       "      <td>8403771</td>\n",
       "      <td>NaN</td>\n",
       "      <td>thmumbai@yahoo.co.in</td>\n",
       "      <td>NaN</td>\n",
       "      <td>NaN</td>\n",
       "      <td>NaN</td>\n",
       "    </tr>\n",
       "    <tr>\n",
       "      <th>Industry:</th>\n",
       "      <td>8403771</td>\n",
       "      <td>NaN</td>\n",
       "      <td>NaN</td>\n",
       "      <td>NaN</td>\n",
       "      <td>[Travel / Tourism]</td>\n",
       "      <td>NaN</td>\n",
       "    </tr>\n",
       "  </tbody>\n",
       "</table>\n",
       "</div>"
      ],
      "text/plain": [
       "                         _id api_data  \\\n",
       "Company Description  8403771      NaN   \n",
       "Company Name         8403771      NaN   \n",
       "Department:          8403771      NaN   \n",
       "Email                8403771      NaN   \n",
       "Industry:            8403771      NaN   \n",
       "\n",
       "                                                          company_info  \\\n",
       "Company Description  TALENT HUNTERS MANPOWER SOLUTION PROP Ashop no...   \n",
       "Company Name                                          [Company Hidden]   \n",
       "Department:                                                        NaN   \n",
       "Email                                             thmumbai@yahoo.co.in   \n",
       "Industry:                                                          NaN   \n",
       "\n",
       "                    jd_information  \\\n",
       "Company Description            NaN   \n",
       "Company Name                   NaN   \n",
       "Department:                    NaN   \n",
       "Email                          NaN   \n",
       "Industry:                      NaN   \n",
       "\n",
       "                                                         other_details  \\\n",
       "Company Description                                                NaN   \n",
       "Company Name                                                       NaN   \n",
       "Department:          [Back Office Operations, Operations Management...   \n",
       "Email                                                              NaN   \n",
       "Industry:                                           [Travel / Tourism]   \n",
       "\n",
       "                    topbox_information  \n",
       "Company Description                NaN  \n",
       "Company Name                       NaN  \n",
       "Department:                        NaN  \n",
       "Email                              NaN  \n",
       "Industry:                          NaN  "
      ]
     },
     "execution_count": 19,
     "metadata": {},
     "output_type": "execute_result"
    }
   ],
   "source": [
    "data.head(5)"
   ]
  },
  {
   "cell_type": "markdown",
   "metadata": {},
   "source": [
    "### Part II: Exploratoty Data Analysis\n",
    "\n",
    "_Include EDA steps like finding distribution of Departments in this part, you may also use plots for EDA._"
   ]
  },
  {
   "cell_type": "code",
   "execution_count": null,
   "metadata": {
    "collapsed": true
   },
   "outputs": [],
   "source": []
  },
  {
   "cell_type": "code",
   "execution_count": null,
   "metadata": {
    "collapsed": true
   },
   "outputs": [],
   "source": []
  },
  {
   "cell_type": "markdown",
   "metadata": {},
   "source": [
    "### Part III: Modelling & Evaluation\n",
    "\n",
    "_Include all model prepration & evaluation steps in this part._"
   ]
  },
  {
   "cell_type": "code",
   "execution_count": null,
   "metadata": {
    "collapsed": true
   },
   "outputs": [],
   "source": []
  },
  {
   "cell_type": "code",
   "execution_count": null,
   "metadata": {
    "collapsed": true
   },
   "outputs": [],
   "source": []
  },
  {
   "cell_type": "markdown",
   "metadata": {},
   "source": [
    "**Results Summary:**\n",
    "_Provide a brief summary of results obtained like model accuracy & other insights based on EDA & your interpretations_\n",
    "\n",
    "1. \n",
    "2. \n",
    "3. "
   ]
  }
 ],
 "metadata": {
  "kernelspec": {
   "display_name": "Python 3",
   "language": "python",
   "name": "python3"
  },
  "language_info": {
   "codemirror_mode": {
    "name": "ipython",
    "version": 3
   },
   "file_extension": ".py",
   "mimetype": "text/x-python",
   "name": "python",
   "nbconvert_exporter": "python",
   "pygments_lexer": "ipython3",
   "version": "3.6.3"
  }
 },
 "nbformat": 4,
 "nbformat_minor": 2
}
